{
  "cells": [
    {
      "cell_type": "code",
      "execution_count": 1,
      "metadata": {},
      "outputs": [
        {
          "name": "stdout",
          "output_type": "stream",
          "text": [
            "\n"
          ]
        }
      ],
      "source": [
        "#hexxagon board layout\n",
        "'''\n",
        "default_board_indexes_representation\n",
        "[1, 2, 3, 4, 5],                0\n",
        "[1, 2, 3, 4, 5, 6],             1\n",
        "[1, 2, 3, 4, 5, 6, 7],          2\t\n",
        "[1, 2, 3, 4, 5, 6, 7, 8],       3\n",
        "[1, 2, 3, 4, 5, 6, 7, 8, 9],    4\n",
        "[1, 2, 3, 4, 5, 6, 7, 8],       5\n",
        "[1, 2, 3, 4, 5, 6, 7],          6\n",
        "[1, 2, 3, 4, 5, 6],             7\n",
        "[1, 2, 3, 4, 5],                8\n",
        "\n",
        "/// Delta-values to be added to TilePosition to get all direct neighbours of a TilePosition.\n",
        "[x, y] = [row, column] # this will need to be flipped potentially as the indexes work y[x]\n",
        "[-1, 0], [1, 0], [0, -1], [-1, -1], [0, 1], [1, 1] --> direct neighbours/clone tiles\n",
        "[2, 0], [-2, 0], [-2, -1], [1, -1], [-1, 1], [2, 1], [0, 2], [-1, -2], [-2, -2], [0, 2], [1, 2], [2, 2] --> neighbours (2 tiles away)/jump tiles\n",
        "\n",
        "/// Delta-values to be added to a even TilePosition to get all tiles with a distance of 1 to a TilePosition.\n",
        "[[0, -4], [0, -3], [1, -2], [1, 0], [1, 2], [0, 3], [0, 4], [-1, 3], [-1, 2], [-1, 0], [-1, -2], [-1, -3]];\n",
        "\n",
        "tile status:\n",
        "\n",
        "0: empty\n",
        "1: player 1\n",
        "2: player 2\n",
        "3: blocked/obstacle\n",
        "\n",
        "TODO:\n",
        "\n",
        "BASE GAME/pvp with base board\n",
        "- create a function that creates a hexxagon board with a given radius (DONE)\n",
        "- create a function that indicates if a coordinate is out of bounds (DONE)\n",
        "- create a function that returns the [x,y] position of all cloneable and jumpable tiles (DONE)\n",
        "- create a function that checks if the game is won\n",
        "- create a function that acts as the base game loop and takes in account who's turn it is\n",
        "\n",
        "UI\n",
        "- flask web app\n",
        "- pass inputs to python with js\n",
        "- draw board cells with js\n",
        "- create a function that returns the tile position/[x,y] of a given tile from click\n",
        "\n",
        "\n",
        "POSSIBLITIES/LATER DEVELOPMENT\n",
        "- ai for the opponent\n",
        "- different board layouts/board layout choice\n",
        "- board creator/modifier ? (choose size (radius), default tile places, blocked tiles)\n",
        "- \n",
        "\n",
        "'''\n",
        "print()"
      ]
    },
    {
      "cell_type": "code",
      "execution_count": 16,
      "metadata": {},
      "outputs": [
        {
          "name": "stdout",
          "output_type": "stream",
          "text": [
            "[[0, 0, 0], [0, 0, 0, 0], [0, 0, 0, 0, 0], [0, 0, 0, 0], [0, 0, 0]]\n",
            "    O  O  O    \n",
            "  O  O  O  O   \n",
            " O  O  O  O  O \n",
            "  O  O  O  O   \n",
            "    O  O  O    \n"
          ]
        }
      ],
      "source": [
        "def generateBoard(radius):\n",
        "    \"\"\"\n",
        "    None --> list\n",
        "    Generates a list of lists representing the board.\n",
        "    \"\"\"\n",
        "\n",
        "    board = []\n",
        "    diameter = radius * 2 - 1\n",
        "    for i in range(radius, diameter): #first half from radius to diameter (not included)\n",
        "        board.append([0] * i)\n",
        "    for i in range(diameter, radius -1, -1): #second half from diameter to radius (included)\n",
        "        board.append([0] * i)\n",
        "    return board\n",
        "\n",
        "def printBoard(board):\n",
        "    \"\"\"\n",
        "    list --> None\n",
        "    Prints the board.\n",
        "    \"\"\"\n",
        "    for i in range(len(board)):\n",
        "        \n",
        "        print(f\"{' O ' * len(board[i]):^{len(board) * 3}}\") # use f-string to center the board with the ^ symbol\n",
        "\n",
        "board = generateBoard(3)\n",
        "print(board)\n",
        "printBoard(board)"
      ]
    },
    {
      "cell_type": "code",
      "execution_count": 10,
      "metadata": {},
      "outputs": [
        {
          "name": "stdout",
          "output_type": "stream",
          "text": [
            "True\n"
          ]
        }
      ],
      "source": [
        "def inBounds(board, x, y):\n",
        "    \"\"\"\n",
        "    lst, int, int --> bool\n",
        "    Returns True if the given coordinates [x, y] are in bounds.\n",
        "    \"\"\"\n",
        "    return 0 <= x < len(board) and 0 <= y < len(board[x])\n",
        "\n",
        "print(inBounds(board, 8, 4))"
      ]
    },
    {
      "cell_type": "code",
      "execution_count": 14,
      "metadata": {},
      "outputs": [
        {
          "name": "stdout",
          "output_type": "stream",
          "text": [
            "[[[2, 3], [4, 3], [3, 2], [2, 2], [3, 4], [4, 4]], [[5, 3], [1, 3], [1, 2], [4, 2], [2, 4], [5, 4], [3, 5], [2, 1], [1, 1], [3, 5], [4, 5], [5, 5]]]\n"
          ]
        }
      ],
      "source": [
        "def getNeighbours(board, x, y):\n",
        "    \"\"\"\n",
        "    lst, int, int --> list\n",
        "    Returns a list of all neighbours of the given coordinates [x, y].\n",
        "    \"\"\"\n",
        "    clone_deltas = [[-1, 0], [1, 0], [0, -1], [-1, -1], [0, 1], [1, 1]]\n",
        "    jump_deltas = [[2, 0], [-2, 0], [-2, -1], [1, -1], [-1, 1], [2, 1], [0, 2], [-1, -2], [-2, -2], [0, 2], [1, 2], [2, 2]]\n",
        "\n",
        "    cloneable_tiles = []\n",
        "    for delta in clone_deltas:\n",
        "        if inBounds(board, x + delta[0], y + delta[1]):\n",
        "            cloneable_tiles.append([x + delta[0], y + delta[1]])\n",
        "    \n",
        "    jumpable_tiles = []\n",
        "    for delta in jump_deltas:\n",
        "        if inBounds(board, x + delta[0], y + delta[1]):\n",
        "            jumpable_tiles.append([x + delta[0], y + delta[1]])\n",
        "\n",
        "    return [cloneable_tiles, jumpable_tiles]\n",
        "\n",
        "print(getNeighbours(board, 3, 3))\n",
        "    "
      ]
    },
    {
      "cell_type": "code",
      "execution_count": null,
      "metadata": {},
      "outputs": [],
      "source": [
        "def tileStatus(board, x, y):\n",
        "    \"\"\"\n",
        "    lst, int, int --> int\n",
        "    Returns the status of the tile at the given coordinates [x, y].\n",
        "    \"\"\"\n",
        "    return board[x][y]\n",
        "\n",
        "\n",
        "def currentScores(board):\n",
        "    \"\"\"\n",
        "    lst --> list\n",
        "    Returns a list of scores for both players.\n",
        "    \"\"\"\n",
        "    p1_count = 0\n",
        "    p2_count = 0\n",
        "    for i in range(len(board)):\n",
        "        for j in range(len(board[i])):\n",
        "            if board[i][j] == 1:\n",
        "                p1_count += 1\n",
        "            elif board[i][j] == 2:\n",
        "                p2_count += 1\n",
        "    return [p1_count, p2_count]\n",
        "\n",
        "def victory(board):\n",
        "    \"\"\"\n",
        "    lst --> bool\n",
        "    Returns True if the game is won.\n",
        "    \"\"\"\n",
        "    for i in range(len(board)):\n",
        "        for j in range(len(board[i])):\n",
        "            if board[i][j] == 0:\n",
        "                return False\n",
        "    \n",
        "    p1_count, p2_count = currentScores(board)\n",
        "    if p1_count + p2_count == :\n",
        "        return True"
      ]
    },
    {
      "attachments": {},
      "cell_type": "markdown",
      "metadata": {},
      "source": [
        "https://codepen.io/billowlabs/pen/pVZZrR"
      ]
    }
  ],
  "metadata": {
    "kernelspec": {
      "display_name": "Python 3",
      "language": "python",
      "name": "python3"
    },
    "language_info": {
      "codemirror_mode": {
        "name": "ipython",
        "version": 3
      },
      "file_extension": ".py",
      "mimetype": "text/x-python",
      "name": "python",
      "nbconvert_exporter": "python",
      "pygments_lexer": "ipython3",
      "version": "3.10.9 (tags/v3.10.9:1dd9be6, Dec  6 2022, 20:01:21) [MSC v.1934 64 bit (AMD64)]"
    },
    "orig_nbformat": 4,
    "vscode": {
      "interpreter": {
        "hash": "654d0b49bf62259f2a1d2a05b5cd9331e7f02bc1dbbe0e90ef2ad62268622e0b"
      }
    }
  },
  "nbformat": 4,
  "nbformat_minor": 2
}
